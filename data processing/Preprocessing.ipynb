{
 "cells": [
  {
   "cell_type": "markdown",
   "id": "330f2b18",
   "metadata": {
    "pycharm": {
     "name": "#%% md\n"
    }
   },
   "source": [
    "# Подготовительные действия"
   ]
  },
  {
   "cell_type": "code",
   "execution_count": 1,
   "id": "1af067ec",
   "metadata": {
    "pycharm": {
     "name": "#%%\n"
    }
   },
   "outputs": [],
   "source": [
    "from utils import *"
   ]
  },
  {
   "cell_type": "code",
   "execution_count": 2,
   "id": "7d01f87b",
   "metadata": {
    "pycharm": {
     "name": "#%%\n"
    }
   },
   "outputs": [],
   "source": [
    "t = Timer()"
   ]
  },
  {
   "cell_type": "markdown",
   "id": "2ab8ecb8",
   "metadata": {
    "pycharm": {
     "name": "#%% md\n"
    }
   },
   "source": [
    "# Загрузка и фильтр рецензий"
   ]
  },
  {
   "cell_type": "markdown",
   "id": "66f56fc8",
   "metadata": {},
   "source": [
    "## Загрузка рецензий из SCV-файла"
   ]
  },
  {
   "cell_type": "code",
   "execution_count": 3,
   "id": "3b72d3c5",
   "metadata": {
    "pycharm": {
     "name": "#%%\n"
    }
   },
   "outputs": [],
   "source": [
    "import pandas as pd"
   ]
  },
  {
   "cell_type": "code",
   "execution_count": 4,
   "id": "999a22fa",
   "metadata": {
    "pycharm": {
     "name": "#%%\n"
    }
   },
   "outputs": [
    {
     "data": {
      "text/plain": [
       "(256509, 2)"
      ]
     },
     "execution_count": 4,
     "metadata": {},
     "output_type": "execute_result"
    }
   ],
   "source": [
    "reviews_df = pd.read_csv('reviews.csv', sep='\\t')\n",
    "reviews_df.shape"
   ]
  },
  {
   "cell_type": "markdown",
   "id": "d9263a0a",
   "metadata": {},
   "source": [
    "## Фильтр рецензий"
   ]
  },
  {
   "cell_type": "markdown",
   "id": "d3442461",
   "metadata": {},
   "source": [
    "Нейтральные рецензии не нужны для обучения модели, поэтому они удаляются"
   ]
  },
  {
   "cell_type": "code",
   "execution_count": 5,
   "id": "72593406",
   "metadata": {
    "pycharm": {
     "name": "#%%\n"
    }
   },
   "outputs": [
    {
     "data": {
      "text/plain": [
       "(214542, 2)"
      ]
     },
     "execution_count": 5,
     "metadata": {},
     "output_type": "execute_result"
    }
   ],
   "source": [
    "reviews_df.drop(reviews_df[reviews_df.mark == 'NEUTRAL'].index, inplace=True)\n",
    "reviews_df.shape"
   ]
  },
  {
   "cell_type": "markdown",
   "id": "d712e963",
   "metadata": {},
   "source": [
    "Положительные рецензии маркируются цифрой 1, отрицательные - цифрой 0"
   ]
  },
  {
   "cell_type": "code",
   "execution_count": 6,
   "id": "918d75db",
   "metadata": {
    "pycharm": {
     "name": "#%%\n"
    }
   },
   "outputs": [],
   "source": [
    "reviews_df.mark.replace({'NEGATIVE': 0, \n",
    "                         'POSITIVE': 1}, inplace=True)"
   ]
  },
  {
   "cell_type": "markdown",
   "id": "5ee1cd8e",
   "metadata": {
    "pycharm": {
     "name": "#%% md\n"
    }
   },
   "source": [
    "## Токенизация рецензий"
   ]
  },
  {
   "cell_type": "markdown",
   "id": "68cf9083",
   "metadata": {
    "pycharm": {
     "name": "#%% md\n"
    }
   },
   "source": [
    "### Загрузка словаря имен"
   ]
  },
  {
   "cell_type": "code",
   "execution_count": 7,
   "id": "24bb5017",
   "metadata": {
    "pycharm": {
     "name": "#%%\n"
    }
   },
   "outputs": [],
   "source": [
    "import pickle"
   ]
  },
  {
   "cell_type": "code",
   "execution_count": 8,
   "id": "23f72ff3",
   "metadata": {
    "pycharm": {
     "name": "#%%\n"
    }
   },
   "outputs": [],
   "source": [
    "with open('token_dict.pkl', 'rb') as file:\n",
    "    words = pickle.load(file)"
   ]
  },
  {
   "cell_type": "markdown",
   "id": "03645a44",
   "metadata": {},
   "source": [
    "### Преобразование рецензий в токены"
   ]
  },
  {
   "cell_type": "code",
   "execution_count": 9,
   "id": "c67362c6",
   "metadata": {
    "pycharm": {
     "name": "#%%\n"
    }
   },
   "outputs": [],
   "source": [
    "import re\n",
    "import matplotlib.pyplot as plt\n",
    "%matplotlib inline"
   ]
  },
  {
   "cell_type": "code",
   "execution_count": 10,
   "id": "c6d6e4db",
   "metadata": {
    "pycharm": {
     "name": "#%%\n"
    }
   },
   "outputs": [],
   "source": [
    "TOKEN_RE = re.compile(r'(?:[\\w\\d]+\\-[\\w\\d]+)|[\\w\\d]+')"
   ]
  },
  {
   "cell_type": "code",
   "execution_count": 11,
   "id": "d831ee49",
   "metadata": {
    "pycharm": {
     "name": "#%%\n"
    }
   },
   "outputs": [
    {
     "name": "stdout",
     "output_type": "stream",
     "text": [
      "Завершено за 00:02:9.416\n"
     ]
    }
   ],
   "source": [
    "t.start()\n",
    "\n",
    "tokenized = [(TOKEN_RE.findall(review.lower()), mark) \n",
    "             for review, mark \n",
    "             in zip(reviews_df.review.to_list(), reviews_df.mark.to_list())]\n",
    "\n",
    "t.stop()"
   ]
  },
  {
   "cell_type": "markdown",
   "id": "62325d76",
   "metadata": {
    "pycharm": {
     "name": "#%% md\n"
    }
   },
   "source": [
    "### Преобразование токенов в идентификаторы"
   ]
  },
  {
   "cell_type": "code",
   "execution_count": 12,
   "id": "79a73681",
   "metadata": {
    "pycharm": {
     "name": "#%%\n"
    }
   },
   "outputs": [
    {
     "name": "stdout",
     "output_type": "stream",
     "text": [
      "Завершено за 00:01:54.11\n"
     ]
    }
   ],
   "source": [
    "t.start()\n",
    "\n",
    "tokenized_ids = [([words[token] \n",
    "                   for token in tokens \n",
    "                   if token in words], mark) \n",
    "                 for tokens, mark in tokenized]\n",
    "\n",
    "t.stop()"
   ]
  },
  {
   "cell_type": "markdown",
   "id": "a224cd3b",
   "metadata": {},
   "source": [
    "# Составление обучающей выборки"
   ]
  },
  {
   "cell_type": "markdown",
   "id": "410977a8",
   "metadata": {},
   "source": [
    "## Фильтр длинных рецензий"
   ]
  },
  {
   "cell_type": "code",
   "execution_count": 13,
   "id": "528ea1c5",
   "metadata": {
    "pycharm": {
     "name": "#%%\n"
    }
   },
   "outputs": [
    {
     "data": {
      "image/png": "[encoded data removed]",
      "text/plain": [
       "<Figure size 432x288 with 1 Axes>"
      ]
     },
     "metadata": {
      "needs_background": "light"
     },
     "output_type": "display_data"
    }
   ],
   "source": [
    "plt.title('Распределение длин рецензий')\n",
    "plt.hist(list(map(lambda review: len(review[0]), tokenized_ids)), bins=100);"
   ]
  },
  {
   "cell_type": "markdown",
   "id": "f97a6d50",
   "metadata": {},
   "source": [
    "Согласно графику распределения, не лишним будет убрать все рецензии, длина которых больше 1000 токенов, поскольку они не очень важны в рамках статистики, но при этом занимают много памяти"
   ]
  },
  {
   "cell_type": "code",
   "execution_count": 14,
   "id": "67b2d329",
   "metadata": {
    "pycharm": {
     "name": "#%%\n"
    }
   },
   "outputs": [
    {
     "name": "stdout",
     "output_type": "stream",
     "text": [
      "Завершено за 00:00:42.291\n"
     ]
    }
   ],
   "source": [
    "t.start()\n",
    "\n",
    "tokenized_sub_1000 = [(tokens, mark)\n",
    "                      for tokens, mark in tokenized_ids \n",
    "                      if len(tokens) <= 1000]\n",
    "\n",
    "t.stop()"
   ]
  },
  {
   "cell_type": "markdown",
   "id": "53e09dc3",
   "metadata": {},
   "source": [
    "Разделение рецензий на положительные и отрицательные"
   ]
  },
  {
   "cell_type": "code",
   "execution_count": 15,
   "id": "d5dfba96",
   "metadata": {},
   "outputs": [],
   "source": [
    "tokenized_sub_1000_pos = [review for review in tokenized_sub_1000 if review[1] == 1]\n",
    "tokenized_sub_1000_neg = [review for review in tokenized_sub_1000 if review[1] == 0]"
   ]
  },
  {
   "cell_type": "markdown",
   "id": "64f6798c",
   "metadata": {},
   "source": [
    "Статистика по количеству положительных и отрицательных рецензий"
   ]
  },
  {
   "cell_type": "code",
   "execution_count": 16,
   "id": "9688e9a5",
   "metadata": {},
   "outputs": [],
   "source": [
    "all_num = len(tokenized_sub_1000)\n",
    "pos_num = len(tokenized_sub_1000_pos)\n",
    "neg_num = len(tokenized_sub_1000_neg)"
   ]
  },
  {
   "cell_type": "code",
   "execution_count": 17,
   "id": "567ae7f3",
   "metadata": {},
   "outputs": [
    {
     "data": {
      "text/html": [
       "<style type=\"text/css\">\n",
       "</style>\n",
       "<table id=\"T_e112e_\">\n",
       "  <thead>\n",
       "    <tr>\n",
       "      <th class=\"col_heading level0 col0\" >класс</th>\n",
       "      <th class=\"col_heading level0 col1\" >число</th>\n",
       "      <th class=\"col_heading level0 col2\" >доля</th>\n",
       "    </tr>\n",
       "  </thead>\n",
       "  <tbody>\n",
       "    <tr>\n",
       "      <td id=\"T_e112e_row0_col0\" class=\"data row0 col0\" >Позитивные</td>\n",
       "      <td id=\"T_e112e_row0_col1\" class=\"data row0 col1\" >188820</td>\n",
       "      <td id=\"T_e112e_row0_col2\" class=\"data row0 col2\" >88%</td>\n",
       "    </tr>\n",
       "    <tr>\n",
       "      <td id=\"T_e112e_row1_col0\" class=\"data row1 col0\" >Негативные</td>\n",
       "      <td id=\"T_e112e_row1_col1\" class=\"data row1 col1\" >25430</td>\n",
       "      <td id=\"T_e112e_row1_col2\" class=\"data row1 col2\" >12%</td>\n",
       "    </tr>\n",
       "  </tbody>\n",
       "</table>\n"
      ],
      "text/plain": [
       "<pandas.io.formats.style.Styler at 0x2aed10d30>"
      ]
     },
     "execution_count": 17,
     "metadata": {},
     "output_type": "execute_result"
    }
   ],
   "source": [
    "nums = [pos_num, neg_num]\n",
    "data = {'класс': ['Позитивные', 'Негативные'], \n",
    "        'число': nums, \n",
    "        'доля': [f'{round(num / all_num * 100)}%' for num in nums]}\n",
    "\n",
    "pd.DataFrame(data).style.hide_index()"
   ]
  },
  {
   "cell_type": "markdown",
   "id": "c1c1025c",
   "metadata": {},
   "source": [
    "## Составление выборки"
   ]
  },
  {
   "cell_type": "code",
   "execution_count": 18,
   "id": "45497930",
   "metadata": {
    "pycharm": {
     "name": "#%%\n"
    }
   },
   "outputs": [],
   "source": [
    "import random"
   ]
  },
  {
   "cell_type": "markdown",
   "id": "7fb4bd83",
   "metadata": {},
   "source": [
    "Итоговая обучающая выборка будет состоять из 50'000 рецензий, из которых 25'000 положительных и столько же отрицательных"
   ]
  },
  {
   "cell_type": "code",
   "execution_count": 19,
   "id": "c5b684ae",
   "metadata": {
    "pycharm": {
     "name": "#%%\n"
    }
   },
   "outputs": [],
   "source": [
    "POS_COUNT = 25000\n",
    "NEG_COUNT = 25000"
   ]
  },
  {
   "cell_type": "code",
   "execution_count": 20,
   "id": "71379d85",
   "metadata": {
    "pycharm": {
     "name": "#%%\n"
    }
   },
   "outputs": [],
   "source": [
    "tokenized_sub_1000_pos = random.sample(tokenized_sub_1000_pos, POS_COUNT)\n",
    "tokenized_sub_1000_neg = random.sample(tokenized_sub_1000_neg, NEG_COUNT)\n",
    "\n",
    "assert len(tokenized_sub_1000_pos) == POS_COUNT and len(tokenized_sub_1000_neg) == NEG_COUNT"
   ]
  },
  {
   "cell_type": "code",
   "execution_count": 21,
   "id": "bc8e8bf5",
   "metadata": {
    "pycharm": {
     "name": "#%%\n"
    }
   },
   "outputs": [],
   "source": [
    "merged_reviews = tokenized_sub_1000_pos + tokenized_sub_1000_neg\n",
    "random.shuffle(merged_reviews)\n",
    "\n",
    "assert len(merged_reviews) == POS_COUNT + NEG_COUNT"
   ]
  },
  {
   "cell_type": "code",
   "execution_count": 22,
   "id": "d7eee431",
   "metadata": {
    "pycharm": {
     "name": "#%%\n"
    }
   },
   "outputs": [
    {
     "data": {
      "image/png": "[encoded data removed]",
      "text/plain": [
       "<Figure size 432x288 with 1 Axes>"
      ]
     },
     "metadata": {
      "needs_background": "light"
     },
     "output_type": "display_data"
    }
   ],
   "source": [
    "plt.title('Распределение длин рецензий')\n",
    "plt.hist(list(map(lambda review: len(review[0]), merged_reviews)), bins=100);"
   ]
  },
  {
   "cell_type": "markdown",
   "id": "2a612b55",
   "metadata": {},
   "source": [
    "# Сохранение обучающей выборки"
   ]
  },
  {
   "cell_type": "code",
   "execution_count": 23,
   "id": "61a34e6c",
   "metadata": {
    "pycharm": {
     "name": "#%%\n"
    }
   },
   "outputs": [],
   "source": [
    "with open('filtred_reviews.pkl', 'wb') as file:\n",
    "    pickle.dump(merged_reviews, file)"
   ]
  }
 ],
 "metadata": {
  "kernelspec": {
   "display_name": "Python 3 (ipykernel)",
   "language": "python",
   "name": "python3"
  },
  "language_info": {
   "codemirror_mode": {
    "name": "ipython",
    "version": 3
   },
   "file_extension": ".py",
   "mimetype": "text/x-python",
   "name": "python",
   "nbconvert_exporter": "python",
   "pygments_lexer": "ipython3",
   "version": "3.9.9"
  }
 },
 "nbformat": 4,
 "nbformat_minor": 5
}
