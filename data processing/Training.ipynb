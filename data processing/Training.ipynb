{
 "cells": [
  {
   "cell_type": "markdown",
   "metadata": {
    "id": "L4Tm2wreHWhq"
   },
   "source": [
    "# Подготовительные действия"
   ]
  },
  {
   "cell_type": "markdown",
   "metadata": {
    "id": "kMxmcG8BjY1s"
   },
   "source": [
    "## Настройка среды\n"
   ]
  },
  {
   "cell_type": "code",
   "execution_count": null,
   "metadata": {
    "id": "JNNXowMtm4np"
   },
   "outputs": [],
   "source": [
    "from google.colab import drive\n",
    "drive.mount('/content/drive')"
   ]
  },
  {
   "cell_type": "code",
   "execution_count": 2,
   "metadata": {
    "id": "rXqiPlqnobU5"
   },
   "outputs": [],
   "source": [
    "DRIVE_PATH = '/content/drive/My Drive/IRPNet files/'"
   ]
  },
  {
   "cell_type": "code",
   "execution_count": 3,
   "metadata": {
    "id": "_BK-CpZ5Qvru"
   },
   "outputs": [],
   "source": [
    "from utils import *\n",
    "t = Timer()"
   ]
  },
  {
   "cell_type": "markdown",
   "metadata": {
    "id": "5WRdMRbD6Kvt"
   },
   "source": [
    "Информация о видеокарте, на которой будут производиться вычисления"
   ]
  },
  {
   "cell_type": "code",
   "execution_count": 4,
   "metadata": {
    "colab": {
     "base_uri": "https://localhost:8080/"
    },
    "id": "H6MSPgmqwKBy",
    "outputId": "392ee6bd-d219-45d3-ca21-c1db8cf86c66"
   },
   "outputs": [
    {
     "name": "stdout",
     "output_type": "stream",
     "text": [
      "Thu May 12 12:16:58 2022       \n",
      "+-----------------------------------------------------------------------------+\n",
      "| NVIDIA-SMI 460.32.03    Driver Version: 460.32.03    CUDA Version: 11.2     |\n",
      "|-------------------------------+----------------------+----------------------+\n",
      "| GPU  Name        Persistence-M| Bus-Id        Disp.A | Volatile Uncorr. ECC |\n",
      "| Fan  Temp  Perf  Pwr:Usage/Cap|         Memory-Usage | GPU-Util  Compute M. |\n",
      "|                               |                      |               MIG M. |\n",
      "|===============================+======================+======================|\n",
      "|   0  Tesla T4            Off  | 00000000:00:04.0 Off |                    0 |\n",
      "| N/A   45C    P8    10W /  70W |      0MiB / 15109MiB |      0%      Default |\n",
      "|                               |                      |                  N/A |\n",
      "+-------------------------------+----------------------+----------------------+\n",
      "                                                                               \n",
      "+-----------------------------------------------------------------------------+\n",
      "| Processes:                                                                  |\n",
      "|  GPU   GI   CI        PID   Type   Process name                  GPU Memory |\n",
      "|        ID   ID                                                   Usage      |\n",
      "|=============================================================================|\n",
      "|  No running processes found                                                 |\n",
      "+-----------------------------------------------------------------------------+\n"
     ]
    }
   ],
   "source": [
    "!nvidia-smi"
   ]
  },
  {
   "cell_type": "code",
   "execution_count": 5,
   "metadata": {
    "id": "1O98TJmH6VmJ"
   },
   "outputs": [],
   "source": [
    "import torch"
   ]
  },
  {
   "cell_type": "code",
   "execution_count": 6,
   "metadata": {
    "colab": {
     "base_uri": "https://localhost:8080/",
     "height": 35
    },
    "id": "Q12fnQ7D6TbK",
    "outputId": "1c29340c-08a1-4920-8934-c25f7eb4347e"
   },
   "outputs": [
    {
     "data": {
      "application/vnd.google.colaboratory.intrinsic+json": {
       "type": "string"
      },
      "text/plain": [
       "'cuda:0'"
      ]
     },
     "execution_count": 6,
     "metadata": {},
     "output_type": "execute_result"
    }
   ],
   "source": [
    "DEVICE = 'cuda:0' if torch.cuda.is_available() else 'cpu'\n",
    "DEVICE"
   ]
  },
  {
   "cell_type": "markdown",
   "metadata": {
    "id": "9dNfNjKL5cnZ"
   },
   "source": [
    "## Загрузка данных"
   ]
  },
  {
   "cell_type": "code",
   "execution_count": 7,
   "metadata": {
    "id": "bE3GYLIARnWs"
   },
   "outputs": [],
   "source": [
    "import pickle"
   ]
  },
  {
   "cell_type": "code",
   "execution_count": 8,
   "metadata": {
    "id": "HC6HcebqMScW"
   },
   "outputs": [],
   "source": [
    "with open(f'{DRIVE_PATH}token_dict.pkl', 'rb') as file:\n",
    "    token_ids = pickle.load(file)"
   ]
  },
  {
   "cell_type": "code",
   "execution_count": 9,
   "metadata": {
    "id": "92c1Ga7c6zfA"
   },
   "outputs": [],
   "source": [
    "emb_tensor = torch.load(f'{DRIVE_PATH}embedding.pt')"
   ]
  },
  {
   "cell_type": "code",
   "execution_count": 10,
   "metadata": {
    "id": "TUszbTMB7Ywt"
   },
   "outputs": [],
   "source": [
    "with open(f'{DRIVE_PATH}filtred_reviews.pkl', 'rb') as file:\n",
    "    reviews = pickle.load(file)"
   ]
  },
  {
   "cell_type": "code",
   "execution_count": 11,
   "metadata": {
    "id": "Aq-eQSyD9Nqq"
   },
   "outputs": [],
   "source": [
    "review_tensors = [torch.tensor(ids, dtype=torch.long, device=DEVICE)\n",
    "                  for ids, _ in reviews]"
   ]
  },
  {
   "cell_type": "code",
   "execution_count": 12,
   "metadata": {
    "id": "UyDT5k3t-6So"
   },
   "outputs": [],
   "source": [
    "EMBEDDING_SIZE = 32"
   ]
  },
  {
   "cell_type": "markdown",
   "metadata": {
    "id": "E4GRQiwl75fu"
   },
   "source": [
    "## Функции для работы с батчами"
   ]
  },
  {
   "cell_type": "markdown",
   "metadata": {
    "id": "IMo8ts2E6wXr"
   },
   "source": [
    "Поскольку нейросеть осуществляет классификацию с помощью двух выходов, необходимо преобразовать маркировку в правильный формат"
   ]
  },
  {
   "cell_type": "code",
   "execution_count": 13,
   "metadata": {
    "id": "EtyxuHrc5TS3"
   },
   "outputs": [],
   "source": [
    "def mark_to_classes(mark):\n",
    "    return [1, 0] if mark else [0, 1]"
   ]
  },
  {
   "cell_type": "markdown",
   "metadata": {
    "id": "ECNPKE377NpI"
   },
   "source": [
    "|      Тензор     |          Размерность           |\n",
    "|:--------------:|:-----------------------------|\n",
    "| reviews_tensor | (batch_size, review_max_len) |\n",
    "|  marks_tensor  | (batch_size, 2)              |"
   ]
  },
  {
   "cell_type": "code",
   "execution_count": 14,
   "metadata": {
    "id": "KQAzQ22c7uNB"
   },
   "outputs": [],
   "source": [
    "def reviews_to_tensor(reviews_list):\n",
    "    max_len = len(max(reviews_list, \n",
    "                      key=lambda review: len(review[0]))[0])\n",
    "    batch_size = len(reviews_list)\n",
    "\n",
    "    reviews_tensor = torch.zeros(batch_size, max_len, \n",
    "                                 dtype=torch.long, \n",
    "                                 device=DEVICE)\n",
    "    marks_tensor = torch.zeros(batch_size, 2,\n",
    "                               dtype=torch.float, \n",
    "                               device=DEVICE)\n",
    "    \n",
    "    for i, review in enumerate(reviews_list):\n",
    "        ids, mark = review\n",
    "        start_idx = max_len - len(ids)\n",
    "\n",
    "        reviews_tensor[i, start_idx:] = torch.tensor(ids, \n",
    "                                                     dtype=torch.long, \n",
    "                                                     device=DEVICE)\n",
    "        marks_tensor[i] = torch.tensor(mark_to_classes(mark), \n",
    "                                       dtype=torch.float,\n",
    "                                       device=DEVICE)\n",
    "        \n",
    "    return reviews_tensor, marks_tensor"
   ]
  },
  {
   "cell_type": "code",
   "execution_count": 15,
   "metadata": {
    "id": "zAr-DbZPH9Ft"
   },
   "outputs": [],
   "source": [
    "import re"
   ]
  },
  {
   "cell_type": "code",
   "execution_count": 16,
   "metadata": {
    "id": "XJVSeqzYH-Uq"
   },
   "outputs": [],
   "source": [
    "TOKEN_RE = re.compile(r'(?:[\\w\\d]+\\-[\\w\\d]+)|[\\w\\d]+')"
   ]
  },
  {
   "cell_type": "markdown",
   "metadata": {
    "id": "IwKG_68O-Mru"
   },
   "source": [
    "Для обработки текстовой рецензии необходимо перевести ее в последовательность идентификаторов токенов, чтобы нейросеть могла выполнить эмбеддинг"
   ]
  },
  {
   "cell_type": "code",
   "execution_count": 17,
   "metadata": {
    "id": "oTErVRQNHtuM"
   },
   "outputs": [],
   "source": [
    "def review_to_tokens(review):\n",
    "  return [token_ids[token] \n",
    "          for token in TOKEN_RE.findall(review.lower())\n",
    "          if token in token_ids]"
   ]
  },
  {
   "cell_type": "markdown",
   "metadata": {
    "id": "-pcS-PPEJm09"
   },
   "source": [
    "## Расчет метрик качества"
   ]
  },
  {
   "cell_type": "markdown",
   "metadata": {
    "id": "l3ahIXN_OxJY"
   },
   "source": [
    "|              |       $y = 1$       |        $y = 0$       |\n",
    "|:------------:|:-------------------:|:--------------------:|\n",
    "| $\\hat y = 1$ | TP (true positive)  | FP (false poositive) |\n",
    "| $\\hat y = 0$ | FN (false negative) | TN (true negative)   |\n"
   ]
  },
  {
   "cell_type": "markdown",
   "metadata": {
    "id": "wf1ALg8k-jY2"
   },
   "source": [
    "В некоторых случаях может получиться деление на ноль, поэтому в каждой дроби к знаменателю прибавляется маленькое число $epsilon = 10^{-10}$"
   ]
  },
  {
   "cell_type": "code",
   "execution_count": 18,
   "metadata": {
    "id": "pqVdbebfQGAF"
   },
   "outputs": [],
   "source": [
    "class ConfusionValues:\n",
    "    def __init__(self, TP=0, FP=0, FN=0, TN=0):\n",
    "        self.TP = TP\n",
    "        self.FP = FP\n",
    "        self.FN = FN\n",
    "        self.TN = TN\n",
    "        self.epsilon = 1.0e-10\n",
    "        \n",
    "    def add(self, TP=0, FP=0, FN=0, TN=0):\n",
    "        self.TP += TP\n",
    "        self.FP += FP\n",
    "        self.FN += FN\n",
    "        self.TN += TN\n",
    "\n",
    "    def plus(self, another):\n",
    "        self.add(*another.values())\n",
    "\n",
    "    def values(self):\n",
    "        return (self.TP, self.FP, self.FN, self.TN)\n",
    "\n",
    "    def print_values(self):\n",
    "        print(f'TP = {self.TP}')\n",
    "        print(f'FP = {self.FP}')\n",
    "        print(f'FN = {self.FN}')\n",
    "        print(f'TN = {self.TN}')\n",
    "        \n",
    "    def accuracy(self):\n",
    "        total = self.TP + self.TN + self.FP + self.FN + self.epsilon\n",
    "        return (self.TP + self.TN) / total\n",
    "\n",
    "    def precision(self):\n",
    "        return self.TP / (self.TP + self.FP + self.epsilon)\n",
    "\n",
    "    def recall(self):\n",
    "        return self.TP / (self.TP + self.FN + self.epsilon)\n",
    "\n",
    "    def f1_score(self):\n",
    "        recall = self.recall()\n",
    "        precision = self.precision()\n",
    "        return 2 * precision * recall / (precision + recall + self.epsilon)"
   ]
  },
  {
   "cell_type": "markdown",
   "metadata": {
    "id": "WVCfzwE1_C15"
   },
   "source": [
    "Поскольку вычислительной мощности не хватает на одновременную обработку сразу всей выборки, приходится делить ее на мини-батчи и вычислять последовательно"
   ]
  },
  {
   "cell_type": "code",
   "execution_count": 19,
   "metadata": {
    "id": "bswsObxqapC2"
   },
   "outputs": [],
   "source": [
    "def get_confusion_values_batch(y_hat_batch, y_batch):\n",
    "    conf_values = ConfusionValues()\n",
    "\n",
    "    for y_hat, y in zip(y_hat_batch, y_batch):\n",
    "        y_hat_norm = y_hat.argmin().item()\n",
    "        y_value = y.argmin().item()\n",
    "        conf_values.add(TP=(y_hat_norm and y_value),\n",
    "                        FP=(y_hat_norm and not y_value),\n",
    "                        FN=(not y_hat_norm and y_value),\n",
    "                        TN=(not y_hat_norm and not y_value))\n",
    "        \n",
    "    return conf_values"
   ]
  },
  {
   "cell_type": "code",
   "execution_count": 20,
   "metadata": {
    "id": "1F603PdEJmU3"
   },
   "outputs": [],
   "source": [
    "def get_confusion_values(dataset, batch_size=1000):\n",
    "    conf_values = ConfusionValues()\n",
    "\n",
    "    for start_index in range(0, len(dataset), batch_size):\n",
    "        x_batch, y_batch = reviews_to_tensor(dataset[start_index : start_index+batch_size])\n",
    "        with torch.no_grad():\n",
    "            y_hat_batch = net.forward(x_batch)\n",
    "            torch.cuda.empty_cache()\n",
    "\n",
    "        conf_values.plus(get_confusion_values_batch(y_hat_batch,\n",
    "                                                    y_batch))\n",
    "\n",
    "    return conf_values"
   ]
  },
  {
   "cell_type": "code",
   "execution_count": 21,
   "metadata": {
    "id": "EHsDHizLaxD0"
   },
   "outputs": [],
   "source": [
    "def print_metrics(dataset):\n",
    "    conf_values = get_confusion_values(dataset)\n",
    "    print(f'{\"Accuracy\":>10} = {conf_values.accuracy()}')\n",
    "    print(f'{\"Precision\":>10} = {conf_values.precision()}')\n",
    "    print(f'{\"Recall\":>10} = {conf_values.recall()}')\n",
    "    print(f'{\"F1-score\":>10} = {conf_values.f1_score()}')"
   ]
  },
  {
   "cell_type": "markdown",
   "metadata": {
    "id": "MAAW0gefI2u4"
   },
   "source": [
    "# Нейронная сеть"
   ]
  },
  {
   "cell_type": "markdown",
   "metadata": {
    "id": "TXz-zuiEkFSy"
   },
   "source": [
    "## Архитектура модели"
   ]
  },
  {
   "cell_type": "code",
   "execution_count": 22,
   "metadata": {
    "id": "y13rT4T_JGcO"
   },
   "outputs": [],
   "source": [
    "import torch.nn as nn"
   ]
  },
  {
   "cell_type": "code",
   "execution_count": 23,
   "metadata": {
    "id": "n5etKte8HMNd"
   },
   "outputs": [],
   "source": [
    "HIDDEN_SIZE = 64\n",
    "OUTPUT_SIZE = 2\n",
    "RNN_LAYERS = 1\n",
    "FC_HIDDEN_SIZE = 128"
   ]
  },
  {
   "cell_type": "markdown",
   "metadata": {
    "id": "0tfDiRwLAfkW"
   },
   "source": [
    "|\\#|Этап         |Входной тензор                              |Выходной тензор\n",
    "|-:|:------------|:-------------------------------------------|:------------\n",
    "| 1|input        |-                                           |(batch_size, review_max_len)\n",
    "| 2|embedding    |(batch_size, review_max_len)                |(batch_size, review_max_len, embedding_size)\n",
    "| 3|LSTM         |- **input**: (batch_size, review_max_len, embedding_size)<br> - **h_0**: (rnn_layers, batch_size, hidden_size)<br> - **c_0**: (rnn_layers, batch_size, hidden_size)|- **output**: (batch_size, review_max_len, hidden_size)<br>- **h_n**: (rnn_layers, batch_size, hidden_size)<br>- **c_n**: (rnn_layers, batch_size, hidden_size)\n",
    "| 4|take last h_n|(rnn_layers, batch_size, hidden_size)                |(batch_size, hidden_size) \n",
    "| 5|FC-layer 1   |(batch_size, hidden_size)                   |(batch_size, fc_hidden_size)\n",
    "| 6|FC-layer 2   |(batch_size, fc_hidden_size)                |(batch_size, output_size)\n",
    "| 7|output       |(batch_size, output_size)                   |-"
   ]
  },
  {
   "cell_type": "code",
   "execution_count": 24,
   "metadata": {
    "id": "fvF2HEHVmcnN"
   },
   "outputs": [],
   "source": [
    "class IRPNet_LSTM(nn.Module):\n",
    "    def __init__(self, \n",
    "                 embedding_size=EMBEDDING_SIZE, \n",
    "                 hidden_size=HIDDEN_SIZE,\n",
    "                 output_size=OUTPUT_SIZE,\n",
    "                 fc_hidden_size=FC_HIDDEN_SIZE,\n",
    "                 rnn_layers=RNN_LAYERS):\n",
    "        super().__init__()\n",
    "        \n",
    "        self.hidden_size = hidden_size\n",
    "        self.rnn_layers = rnn_layers\n",
    "        \n",
    "        self.emb = nn.Embedding.from_pretrained(emb_tensor)\n",
    "\n",
    "        self.rnn = nn.LSTM(input_size=embedding_size, \n",
    "                           hidden_size=hidden_size,\n",
    "                           num_layers=rnn_layers,\n",
    "                           batch_first=True)\n",
    "        \n",
    "        self.fc1 = nn.Linear(hidden_size, fc_hidden_size)\n",
    "        self.act1 = nn.Sigmoid()\n",
    "        self.drop = nn.Dropout(p=0.4)\n",
    "        self.fc2 = nn.Linear(fc_hidden_size, output_size)\n",
    "        self.act2 = nn.Softmax(dim=1)\n",
    "        \n",
    "    def forward(self, input_batch):\n",
    "        batch_size = input_batch.size()[0]\n",
    "\n",
    "        input_emb = self.emb(input_batch)\n",
    "        output, (h, c) = self.rnn(input_emb, (self.init_hidden(batch_size),\n",
    "                                              self.init_hidden(batch_size)))\n",
    "        x = h[-1]\n",
    "        x = self.fc1(x)\n",
    "        x = self.act1(x)\n",
    "        x = self.drop(x)\n",
    "        x = self.fc2(x)\n",
    "        x = self.act2(x)\n",
    "        \n",
    "        return x\n",
    "    \n",
    "    def init_hidden(self, batch_size):\n",
    "        return torch.zeros(self.rnn_layers, batch_size, self.hidden_size, \n",
    "                           dtype=torch.float, device=DEVICE)"
   ]
  },
  {
   "cell_type": "markdown",
   "metadata": {
    "id": "0lCiNp0iEjN8"
   },
   "source": [
    "## Формирование выборки"
   ]
  },
  {
   "cell_type": "code",
   "execution_count": 25,
   "metadata": {
    "id": "o_ZOspj8Xd3o"
   },
   "outputs": [],
   "source": [
    "import random\n",
    "import pandas as pd"
   ]
  },
  {
   "cell_type": "markdown",
   "metadata": {
    "id": "-rgmJC7WHVfU"
   },
   "source": [
    "На тренировочную выборку (для обучения сети) берется 70% всех рецензий, а оставшиеся 30% отводятся под валидационную (тестовую) выборку, на основе которой будет проверяться эффективность работы сети"
   ]
  },
  {
   "cell_type": "code",
   "execution_count": 26,
   "metadata": {
    "colab": {
     "base_uri": "https://localhost:8080/",
     "height": 143
    },
    "id": "NQps9s-JZXcX",
    "outputId": "a573aeb1-c183-4018-be9c-a22a261a9757"
   },
   "outputs": [
    {
     "data": {
      "text/html": [
       "<style type=\"text/css\">\n",
       "</style>\n",
       "<table id=\"T_75d78_\" class=\"dataframe\">\n",
       "  <thead>\n",
       "    <tr>\n",
       "      <th class=\"col_heading level0 col0\" >Выборка</th>\n",
       "      <th class=\"col_heading level0 col1\" >Размер</th>\n",
       "    </tr>\n",
       "  </thead>\n",
       "  <tbody>\n",
       "    <tr>\n",
       "      <td id=\"T_75d78_row0_col0\" class=\"data row0 col0\" >Вся</td>\n",
       "      <td id=\"T_75d78_row0_col1\" class=\"data row0 col1\" >50000</td>\n",
       "    </tr>\n",
       "    <tr>\n",
       "      <td id=\"T_75d78_row1_col0\" class=\"data row1 col0\" >Тренировочная</td>\n",
       "      <td id=\"T_75d78_row1_col1\" class=\"data row1 col1\" >35000</td>\n",
       "    </tr>\n",
       "    <tr>\n",
       "      <td id=\"T_75d78_row2_col0\" class=\"data row2 col0\" >Тестовая</td>\n",
       "      <td id=\"T_75d78_row2_col1\" class=\"data row2 col1\" >15000</td>\n",
       "    </tr>\n",
       "  </tbody>\n",
       "</table>\n"
      ],
      "text/plain": [
       "<pandas.io.formats.style.Styler at 0x7f5e9c846f10>"
      ]
     },
     "execution_count": 26,
     "metadata": {},
     "output_type": "execute_result"
    }
   ],
   "source": [
    "total_data_size = len(reviews)\n",
    "separator_index = int(total_data_size * 0.7)\n",
    "\n",
    "train_data = reviews[:separator_index]\n",
    "test_data = reviews[separator_index:]\n",
    "\n",
    "data = {'Выборка': ['Вся', 'Тренировочная', 'Тестовая'], \n",
    "        'Размер': [total_data_size, len(train_data), len(test_data)]}\n",
    "\n",
    "pd.DataFrame(data).style.hide_index()"
   ]
  },
  {
   "cell_type": "markdown",
   "metadata": {
    "id": "opfuS2L2W8yC"
   },
   "source": [
    "## Обучение модели"
   ]
  },
  {
   "cell_type": "code",
   "execution_count": 27,
   "metadata": {
    "id": "o1cjO15lbHQ6"
   },
   "outputs": [],
   "source": [
    "import matplotlib.pyplot as plt\n",
    "from IPython.display import clear_output\n",
    "%matplotlib inline"
   ]
  },
  {
   "cell_type": "code",
   "execution_count": 28,
   "metadata": {
    "id": "mXzBOGi4iFKU"
   },
   "outputs": [],
   "source": [
    "net = IRPNet_LSTM().to(DEVICE)"
   ]
  },
  {
   "cell_type": "markdown",
   "metadata": {
    "id": "BnBq6UfAIE1X"
   },
   "source": [
    "- В качестве функции потерь используется кросс-энтропия\n",
    "- В качестве оптимизатора используется Adam со стандартными параметрами и начальной скоростью обучения $10^{-3}$\n",
    "- Если на протяжении 20 эпох обучения метрика качества не улучается, скорость обучения уменьшается в два раза (scheduler)"
   ]
  },
  {
   "cell_type": "code",
   "execution_count": 29,
   "metadata": {
    "id": "MiEm8b1WYrPi"
   },
   "outputs": [],
   "source": [
    "loss = nn.CrossEntropyLoss()\n",
    "optimizer = torch.optim.Adam(net.parameters(), lr=1.0e-3)\n",
    "\n",
    "scheduler = torch.optim.lr_scheduler.ReduceLROnPlateau(optimizer=optimizer,\n",
    "                                                       patience=20,\n",
    "                                                       factor=0.5)"
   ]
  },
  {
   "cell_type": "code",
   "execution_count": 30,
   "metadata": {
    "id": "ocXpWIBzZAf-"
   },
   "outputs": [],
   "source": [
    "history_test = []\n",
    "history_train = []"
   ]
  },
  {
   "cell_type": "markdown",
   "metadata": {
    "id": "sMm3XGMKK2Fx"
   },
   "source": [
    "Обучение производится в 100 эпох"
   ]
  },
  {
   "cell_type": "code",
   "execution_count": 31,
   "metadata": {
    "colab": {
     "base_uri": "https://localhost:8080/",
     "height": 298
    },
    "id": "d6Yq-HDEawU-",
    "outputId": "edcf5f12-71db-4aa4-dad9-c5df360d4e68"
   },
   "outputs": [
    {
     "data": {
      "image/png": "[encoded data removed]",
      "text/plain": [
       "<Figure size 432x288 with 1 Axes>"
      ]
     },
     "metadata": {
      "needs_background": "light"
     },
     "output_type": "display_data"
    },
    {
     "name": "stdout",
     "output_type": "stream",
     "text": [
      "Завершено за 00:17:17.494\n"
     ]
    }
   ],
   "source": [
    "t.start()\n",
    "\n",
    "torch.cuda.empty_cache()\n",
    "\n",
    "EPOCH_COUNT = 100\n",
    "BATCH_SIZE = 1000\n",
    "ITERS_PER_EPOCH = len(train_data) // BATCH_SIZE\n",
    "TOTAL_ITERS = EPOCH_COUNT * ITERS_PER_EPOCH\n",
    "\n",
    "for epoch in range(EPOCH_COUNT):\n",
    "    confusion_values_train = ConfusionValues()\n",
    "    net.train()\n",
    "\n",
    "    random.shuffle(train_data)\n",
    "    for start_index in range(0, len(train_data), BATCH_SIZE):\n",
    "        x_batch, y_batch = reviews_to_tensor(\n",
    "            train_data[start_index : start_index+BATCH_SIZE])\n",
    "        \n",
    "        optimizer.zero_grad()\n",
    "        \n",
    "        preds = net.forward(x_batch) \n",
    "        \n",
    "        loss_value = loss(preds, y_batch)\n",
    "        loss_value.backward()\n",
    "        optimizer.step()\n",
    "\n",
    "        confusion_values_train.plus(get_confusion_values_batch(preds,\n",
    "                                                               y_batch))\n",
    "        \n",
    "        current_iters = epoch * ITERS_PER_EPOCH + (start_index // BATCH_SIZE)\n",
    "        label = f'{(epoch+1):>3}/{EPOCH_COUNT} '\n",
    "        label += f'({round(start_index / (len(train_data) - 1) * 100):>3}%) '\n",
    "        label += progress_bar(current_iters, TOTAL_ITERS)\n",
    "        label += f' {t.elapsed():<12} | '\n",
    "        label += f'lr={optimizer.param_groups[0][\"lr\"]}'\n",
    "        print('\\r' + label, end='')\n",
    "    \n",
    "    net.eval()\n",
    "\n",
    "    f1_score_train = confusion_values_train.f1_score()\n",
    "    history_train.append(f1_score_train)\n",
    "\n",
    "    confusion_values = get_confusion_values(test_data)\n",
    "    f1_score_test = confusion_values.f1_score()\n",
    "    history_test.append(f1_score_test)\n",
    "\n",
    "    scheduler.step(f1_score_test)\n",
    "        \n",
    "    clear_output(True)\n",
    "    plt.title('F1-score')\n",
    "    plt.plot(history_train, label=f'train')\n",
    "    plt.plot(history_test, label=f'test')\n",
    "    plt.legend()\n",
    "    plt.show()\n",
    "\n",
    "t.stop()"
   ]
  },
  {
   "cell_type": "markdown",
   "metadata": {
    "id": "rPcwlGT0BY2W"
   },
   "source": [
    "# Тестирование"
   ]
  },
  {
   "cell_type": "markdown",
   "metadata": {
    "id": "wg-hbRseJj9X"
   },
   "source": [
    "## Проверка работы на некоторых примерах"
   ]
  },
  {
   "cell_type": "markdown",
   "metadata": {
    "id": "3c6rpnxbJQuV"
   },
   "source": [
    "Простейшая функция для вывода результатов работы сети"
   ]
  },
  {
   "cell_type": "code",
   "execution_count": 32,
   "metadata": {
    "id": "9YWWSnUcc-wS"
   },
   "outputs": [],
   "source": [
    "def process_review(review):\n",
    "    reviews_tensor, _ = reviews_to_tensor([(review_to_tokens(review), 0)])\n",
    "    \n",
    "    with torch.no_grad():\n",
    "        output = net(reviews_tensor)\n",
    "        torch.cuda.empty_cache()\n",
    "    \n",
    "    for label, value in zip(['Positive:', 'Negative:'], output.view(-1)):\n",
    "        print(label, round(value.item(), 6))"
   ]
  },
  {
   "cell_type": "code",
   "execution_count": 33,
   "metadata": {
    "colab": {
     "base_uri": "https://localhost:8080/"
    },
    "id": "gZRZIdpofEDZ",
    "outputId": "e92b8fa0-0bf4-4d6d-ebbc-3a746cb81662"
   },
   "outputs": [
    {
     "name": "stdout",
     "output_type": "stream",
     "text": [
      "Positive: 0.015516\n",
      "Negative: 0.984484\n"
     ]
    }
   ],
   "source": [
    "process_review('Купил телефон, а он ни о чем! Памяти мало, батарея хоть и хорошая, но зарядки нет в комплекте, остался недоволен')"
   ]
  },
  {
   "cell_type": "code",
   "execution_count": 34,
   "metadata": {
    "colab": {
     "base_uri": "https://localhost:8080/"
    },
    "id": "PXT3O0N_-yyY",
    "outputId": "70b9c00b-c2c3-4c36-be98-c2c53c119357"
   },
   "outputs": [
    {
     "name": "stdout",
     "output_type": "stream",
     "text": [
      "Positive: 0.999434\n",
      "Negative: 0.000566\n"
     ]
    }
   ],
   "source": [
    "process_review('Купил телефон, ни о чем не жалею! Мощный, красивый, с большим экраном, рекомендую!')"
   ]
  },
  {
   "cell_type": "markdown",
   "metadata": {
    "id": "7bb0JUQ5LRU0"
   },
   "source": [
    "Расчет метрик качества для тренировочной и валидационной выборки"
   ]
  },
  {
   "cell_type": "code",
   "execution_count": 35,
   "metadata": {
    "colab": {
     "base_uri": "https://localhost:8080/"
    },
    "id": "BxHyAHGvMc1g",
    "outputId": "542e0c8c-5b72-4e64-885b-de4236cb6dfc"
   },
   "outputs": [
    {
     "name": "stdout",
     "output_type": "stream",
     "text": [
      "train:\n",
      "  Accuracy = 0.9430857142857115\n",
      " Precision = 0.9492858382004226\n",
      "    Recall = 0.9363983800125439\n",
      "  F1-score = 0.9427980702463443\n",
      "\n",
      "test:\n",
      "  Accuracy = 0.9174666666666605\n",
      " Precision = 0.9237046103631045\n",
      "    Recall = 0.9093586825545467\n",
      "  F1-score = 0.9164755093279423\n",
      "\n",
      "Завершено за 00:00:7.29\n"
     ]
    }
   ],
   "source": [
    "t.start()\n",
    "\n",
    "print('train:')\n",
    "print_metrics(train_data)\n",
    "print('\\ntest:')\n",
    "print_metrics(test_data)\n",
    "print()\n",
    "\n",
    "t.stop()"
   ]
  },
  {
   "cell_type": "markdown",
   "metadata": {
    "id": "pX_O0v-rJpVt"
   },
   "source": [
    "## Проверка работы на всей выборке из более чем 250'000 рецензий"
   ]
  },
  {
   "cell_type": "code",
   "execution_count": 36,
   "metadata": {
    "id": "SNjqqjUriX69"
   },
   "outputs": [],
   "source": [
    "with open(f'{DRIVE_PATH}all_reviews.pkl', 'rb') as file:\n",
    "    all_reviews = pickle.load(file)"
   ]
  },
  {
   "cell_type": "code",
   "execution_count": 37,
   "metadata": {
    "colab": {
     "base_uri": "https://localhost:8080/"
    },
    "id": "_D1CPSDqi_b5",
    "outputId": "ae440900-368c-472f-8bed-c30928228e16"
   },
   "outputs": [
    {
     "name": "stdout",
     "output_type": "stream",
     "text": [
      "  Accuracy = 0.9134621659162305\n",
      " Precision = 0.9914457491022066\n",
      "    Recall = 0.909656810116406\n",
      "  F1-score = 0.9487919240454142\n",
      "\n",
      "Завершено за 00:00:33.817\n"
     ]
    }
   ],
   "source": [
    "t.start()\n",
    "\n",
    "print_metrics(all_reviews)\n",
    "print()\n",
    "\n",
    "t.stop()"
   ]
  },
  {
   "cell_type": "markdown",
   "metadata": {
    "id": "R58pze5xNm-y"
   },
   "source": [
    "# Сохранение модели"
   ]
  },
  {
   "cell_type": "markdown",
   "metadata": {
    "id": "DOZo4PIkLtu_"
   },
   "source": [
    "Сохранение всех весов модели"
   ]
  },
  {
   "cell_type": "code",
   "execution_count": 38,
   "metadata": {
    "id": "PIN_2vtTNmuX"
   },
   "outputs": [],
   "source": [
    "torch.save(net.state_dict(), f'{DRIVE_PATH}IRPNet.pt')"
   ]
  },
  {
   "cell_type": "markdown",
   "metadata": {
    "id": "q1nB20e_LxDn"
   },
   "source": [
    "Сохранение истории обучения"
   ]
  },
  {
   "cell_type": "code",
   "execution_count": 39,
   "metadata": {
    "id": "DG7s5J4Si1BU"
   },
   "outputs": [],
   "source": [
    "with open(f'{DRIVE_PATH}history_train.pkl', 'bw') as f_train:\n",
    "    pickle.dump(history_train, f_train)\n",
    "\n",
    "with open(f'{DRIVE_PATH}history_test.pkl', 'bw') as f_test:\n",
    "    pickle.dump(history_test, f_test)"
   ]
  }
 ],
 "metadata": {
  "accelerator": "GPU",
  "colab": {
   "name": "IRPNet.ipynb",
   "provenance": []
  },
  "kernelspec": {
   "display_name": "Python 3 (ipykernel)",
   "language": "python",
   "name": "python3"
  },
  "language_info": {
   "codemirror_mode": {
    "name": "ipython",
    "version": 3
   },
   "file_extension": ".py",
   "mimetype": "text/x-python",
   "name": "python",
   "nbconvert_exporter": "python",
   "pygments_lexer": "ipython3",
   "version": "3.9.9"
  }
 },
 "nbformat": 4,
 "nbformat_minor": 1
}
