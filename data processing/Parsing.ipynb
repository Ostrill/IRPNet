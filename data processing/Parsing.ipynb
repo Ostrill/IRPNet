{
 "cells": [
  {
   "cell_type": "markdown",
   "id": "fb332a61",
   "metadata": {
    "pycharm": {
     "name": "#%% md\n"
    }
   },
   "source": [
    "# Подготовительные действия"
   ]
  },
  {
   "cell_type": "code",
   "execution_count": null,
   "id": "8472e3f4",
   "metadata": {
    "pycharm": {
     "name": "#%%\n"
    }
   },
   "outputs": [],
   "source": [
    "import requests\n",
    "import pandas as pd\n",
    "from utils import *"
   ]
  },
  {
   "cell_type": "code",
   "execution_count": null,
   "id": "adaf66d1",
   "metadata": {
    "pycharm": {
     "name": "#%%\n"
    }
   },
   "outputs": [],
   "source": [
    "t = Timer()"
   ]
  },
  {
   "cell_type": "code",
   "execution_count": null,
   "id": "161a75c0",
   "metadata": {
    "pycharm": {
     "name": "#%%\n"
    }
   },
   "outputs": [],
   "source": [
    "API_KEY = input()\n",
    "HEADERS = {'accept': 'application/json',\n",
    "           'X-API-KEY': API_KEY}"
   ]
  },
  {
   "cell_type": "code",
   "execution_count": null,
   "id": "2b29d8bf",
   "metadata": {
    "pycharm": {
     "name": "#%%\n"
    }
   },
   "outputs": [],
   "source": [
    "REVIEWS_ROUTE = 'https://kinopoiskapiunofficial.tech/api/v1/reviews'"
   ]
  },
  {
   "cell_type": "markdown",
   "id": "9c8f1fdd",
   "metadata": {},
   "source": [
    "Получение респонса с рецензиями фильма"
   ]
  },
  {
   "cell_type": "code",
   "execution_count": null,
   "id": "b645e154",
   "metadata": {
    "pycharm": {
     "name": "#%%\n"
    }
   },
   "outputs": [],
   "source": [
    "def get_reviews(film_id, page):\n",
    "    return requests.get(REVIEWS_ROUTE,\n",
    "                        dict(filmId=film_id,\n",
    "                             page=page),\n",
    "                        headers=HEADERS)"
   ]
  },
  {
   "cell_type": "markdown",
   "id": "036ac2ff",
   "metadata": {},
   "source": [
    "Рецензии, полученные с помощью API, содержат некоторые служебные символы, которые необходимо убрать для дальнейшей работы"
   ]
  },
  {
   "cell_type": "code",
   "execution_count": null,
   "id": "d0f413ca",
   "metadata": {
    "pycharm": {
     "name": "#%%\n"
    }
   },
   "outputs": [],
   "source": [
    "def clear_text(text):\n",
    "    return text.replace('\\n', '')\\\n",
    "        .replace('\\r', '')\\\n",
    "        .replace('\\t', '')"
   ]
  },
  {
   "cell_type": "markdown",
   "id": "fc4b047d",
   "metadata": {},
   "source": [
    "Поскольку API разрешает делать только 20 запросов в секунду, необходимо каждые 19 запросов ждать одну секунду"
   ]
  },
  {
   "cell_type": "code",
   "execution_count": null,
   "id": "b7e7b68f",
   "metadata": {
    "pycharm": {
     "name": "#%%\n"
    }
   },
   "outputs": [],
   "source": [
    "def check_wait(count):\n",
    "    count += 1\n",
    "    if count % 19 == 0:\n",
    "        time.sleep(1)\n",
    "    return count"
   ]
  },
  {
   "cell_type": "markdown",
   "id": "c0852f70",
   "metadata": {},
   "source": [
    "Во время извлечения отзывов можно показывать прогресс выполнения, а также статистику по уже полученным рецензиям, чтобы видеть, сколько из них  положительных, отрицательных и нейтральных"
   ]
  },
  {
   "cell_type": "code",
   "execution_count": null,
   "id": "954fa112",
   "metadata": {
    "pycharm": {
     "name": "#%%\n"
    }
   },
   "outputs": [],
   "source": [
    "def update_output(pos, neg, neu, timer, i, total_i):\n",
    "    clear_output(True)\n",
    "    print(progress_bar(i, total_i, size=23))\n",
    "    print()\n",
    "    print(f'+------------+----------+')\n",
    "    print(f'| + POSITIVE | {pos:>8} |')\n",
    "    print(f'+------------+----------+')\n",
    "    print(f'| - NEGATIVE | {neg:>8} |')\n",
    "    print(f'+------------+----------+')\n",
    "    print(f'|   NEUTRAL  | {neu:>8} |')\n",
    "    print(f'+------------+----------+')\n",
    "    print()\n",
    "    print(f'Time: {timer.elapsed()}')"
   ]
  },
  {
   "cell_type": "markdown",
   "id": "c0074fba",
   "metadata": {},
   "source": [
    "# Извлечение рецензий из КиноПоиска"
   ]
  },
  {
   "cell_type": "code",
   "execution_count": null,
   "id": "9c660e42",
   "metadata": {
    "pycharm": {
     "name": "#%%\n"
    }
   },
   "outputs": [],
   "source": [
    "reviews = []"
   ]
  },
  {
   "cell_type": "code",
   "execution_count": null,
   "id": "260be4de",
   "metadata": {
    "pycharm": {
     "name": "#%%\n"
    }
   },
   "outputs": [],
   "source": [
    "import time\n",
    "from IPython.display import clear_output"
   ]
  },
  {
   "cell_type": "code",
   "execution_count": null,
   "id": "60620108",
   "metadata": {
    "pycharm": {
     "name": "#%%\n"
    }
   },
   "outputs": [],
   "source": [
    "t.start()\n",
    "\n",
    "TOTAL_I = 10000\n",
    "START_I = 10000\n",
    "\n",
    "new_pos = 0\n",
    "new_neg = 0\n",
    "new_neu = 0\n",
    "\n",
    "request_count = 0\n",
    "for i in range(START_I, START_I + TOTAL_I):\n",
    "    page_count, page_limit = 1, 0\n",
    "    while True:\n",
    "        response = get_reviews(i, page_count)\n",
    "        request_count = check_wait(request_count)\n",
    "\n",
    "        if response.status_code in (404, 402, 429):\n",
    "            if response.status_code == 404:\n",
    "                break\n",
    "            else:\n",
    "                assert False, f'\\nStopped on id: {i}\\n{response.status_code}\\n'\n",
    "            \n",
    "        response = response.json()\n",
    "        if not page_limit:\n",
    "            page_limit = response['pagesCount']\n",
    "        for review in response['reviews']:\n",
    "            mark = review['reviewType']\n",
    "            if mark == 'POSITIVE':\n",
    "                new_pos += 1\n",
    "            elif mark == 'NEGATIVE':\n",
    "                new_neg += 1\n",
    "            elif mark == 'NEUTRAL':\n",
    "                new_neu += 1\n",
    "            reviews.append((clear_text(review['reviewDescription']), mark))\n",
    "        \n",
    "        page_percent = round(page_count / page_limit * 100)\n",
    "        update_output(new_pos, new_neg, new_neu, \n",
    "                      t, i - START_I, TOTAL_I - 1)\n",
    "        \n",
    "        if page_count == page_limit:\n",
    "            break\n",
    "        page_count += 1\n",
    "        \n",
    "t.stop()"
   ]
  },
  {
   "cell_type": "markdown",
   "id": "cd9d4276",
   "metadata": {},
   "source": [
    "# Статистика по найденным рецензиям"
   ]
  },
  {
   "cell_type": "markdown",
   "id": "a8fb2463",
   "metadata": {},
   "source": [
    "Поскольку для обучения имеют значение только положительные и отрицательные рецензии, нейтральные не рассматриваются"
   ]
  },
  {
   "cell_type": "code",
   "execution_count": null,
   "id": "47b85dac",
   "metadata": {
    "pycharm": {
     "name": "#%%\n"
    }
   },
   "outputs": [],
   "source": [
    "def reviews_stat(reviews_list):\n",
    "    all_num = len(reviews_list)\n",
    "    pos_num = sum(map(lambda review: review[1] == 'POSITIVE', reviews_list))\n",
    "    neg_num = sum(map(lambda review: review[1] == 'NEGATIVE', reviews_list))\n",
    "    nums = [pos_num, neg_num]\n",
    "    data = {'класс': ['Позитивные', 'Негативные'], \n",
    "            'число': nums, \n",
    "            'доля': [f'{round(num / all_num * 100)}%' for num in nums]}\n",
    "\n",
    "    return pd.DataFrame(data).style.hide_index()"
   ]
  },
  {
   "cell_type": "code",
   "execution_count": null,
   "id": "3a0023c2",
   "metadata": {
    "pycharm": {
     "name": "#%%\n"
    }
   },
   "outputs": [],
   "source": [
    "reviews_stat(reviews)"
   ]
  },
  {
   "cell_type": "markdown",
   "id": "911b589f",
   "metadata": {},
   "source": [
    "Если по каким-либо причинам в выборке оказалось несколько идентичных рецензий, необходимо оставить только уникальные"
   ]
  },
  {
   "cell_type": "code",
   "execution_count": null,
   "id": "ec5c22da",
   "metadata": {
    "pycharm": {
     "name": "#%%\n"
    }
   },
   "outputs": [],
   "source": [
    "reviews_set = set(reviews)\n",
    "\n",
    "if len(reviews) != len(reviews_set):\n",
    "    reviews = list(reviews_set)"
   ]
  },
  {
   "cell_type": "markdown",
   "id": "6a4edb0f",
   "metadata": {},
   "source": [
    "# Сохранение рецензий"
   ]
  },
  {
   "cell_type": "code",
   "execution_count": null,
   "id": "8b6d0464",
   "metadata": {},
   "outputs": [],
   "source": [
    "with open('reviews.scv', 'w') as file:\n",
    "    file.write(f'review\\tmark\\n')\n",
    "    for review, mark in reviews:\n",
    "        file.write(f'{review}\\t{mark}\\n')"
   ]
  }
 ],
 "metadata": {
  "kernelspec": {
   "display_name": "Python 3 (ipykernel)",
   "language": "python",
   "name": "python3"
  },
  "language_info": {
   "codemirror_mode": {
    "name": "ipython",
    "version": 3
   },
   "file_extension": ".py",
   "mimetype": "text/x-python",
   "name": "python",
   "nbconvert_exporter": "python",
   "pygments_lexer": "ipython3",
   "version": "3.9.9"
  }
 },
 "nbformat": 4,
 "nbformat_minor": 5
}
