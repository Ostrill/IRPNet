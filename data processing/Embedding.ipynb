{
 "cells": [
  {
   "cell_type": "markdown",
   "id": "11615742",
   "metadata": {},
   "source": [
    "# Подготовительные действия"
   ]
  },
  {
   "cell_type": "code",
   "execution_count": 1,
   "id": "1cc18f73",
   "metadata": {},
   "outputs": [],
   "source": [
    "from utils import *"
   ]
  },
  {
   "cell_type": "code",
   "execution_count": 2,
   "id": "b096ed83",
   "metadata": {},
   "outputs": [],
   "source": [
    "t = Timer()"
   ]
  },
  {
   "cell_type": "markdown",
   "id": "6d948141",
   "metadata": {},
   "source": [
    "# Загрузка рецензий"
   ]
  },
  {
   "cell_type": "code",
   "execution_count": 3,
   "id": "9760da9e",
   "metadata": {},
   "outputs": [],
   "source": [
    "import pandas as pd"
   ]
  },
  {
   "cell_type": "code",
   "execution_count": 4,
   "id": "6feeabc4",
   "metadata": {},
   "outputs": [
    {
     "name": "stdout",
     "output_type": "stream",
     "text": [
      "(256509, 2)\n",
      "Завершено за 00:00:17.254\n"
     ]
    }
   ],
   "source": [
    "t.start()\n",
    "\n",
    "reviews_df = pd.read_csv('reviews.csv', sep='\\t')\n",
    "print(reviews_df.shape)\n",
    "\n",
    "t.stop()"
   ]
  },
  {
   "cell_type": "markdown",
   "id": "e33927b9",
   "metadata": {},
   "source": [
    "Распределение классов рецензий"
   ]
  },
  {
   "cell_type": "code",
   "execution_count": 5,
   "id": "0cf8df56",
   "metadata": {},
   "outputs": [],
   "source": [
    "all_num = len(reviews_df)\n",
    "pos_num = len(reviews_df[reviews_df.mark == 'POSITIVE'])\n",
    "neg_num = len(reviews_df[reviews_df.mark == 'NEGATIVE'])\n",
    "neu_num = len(reviews_df[reviews_df.mark == 'NEUTRAL'])"
   ]
  },
  {
   "cell_type": "code",
   "execution_count": 6,
   "id": "4a835f05",
   "metadata": {},
   "outputs": [
    {
     "data": {
      "text/html": [
       "<style type=\"text/css\">\n",
       "</style>\n",
       "<table id=\"T_317e2_\">\n",
       "  <thead>\n",
       "    <tr>\n",
       "      <th class=\"col_heading level0 col0\" >класс</th>\n",
       "      <th class=\"col_heading level0 col1\" >число</th>\n",
       "      <th class=\"col_heading level0 col2\" >доля</th>\n",
       "    </tr>\n",
       "  </thead>\n",
       "  <tbody>\n",
       "    <tr>\n",
       "      <td id=\"T_317e2_row0_col0\" class=\"data row0 col0\" >Позитивные</td>\n",
       "      <td id=\"T_317e2_row0_col1\" class=\"data row0 col1\" >189079</td>\n",
       "      <td id=\"T_317e2_row0_col2\" class=\"data row0 col2\" >74%</td>\n",
       "    </tr>\n",
       "    <tr>\n",
       "      <td id=\"T_317e2_row1_col0\" class=\"data row1 col0\" >Негативные</td>\n",
       "      <td id=\"T_317e2_row1_col1\" class=\"data row1 col1\" >25463</td>\n",
       "      <td id=\"T_317e2_row1_col2\" class=\"data row1 col2\" >10%</td>\n",
       "    </tr>\n",
       "    <tr>\n",
       "      <td id=\"T_317e2_row2_col0\" class=\"data row2 col0\" >Нейтральные</td>\n",
       "      <td id=\"T_317e2_row2_col1\" class=\"data row2 col1\" >41967</td>\n",
       "      <td id=\"T_317e2_row2_col2\" class=\"data row2 col2\" >16%</td>\n",
       "    </tr>\n",
       "  </tbody>\n",
       "</table>\n"
      ],
      "text/plain": [
       "<pandas.io.formats.style.Styler at 0x115d40a90>"
      ]
     },
     "execution_count": 6,
     "metadata": {},
     "output_type": "execute_result"
    }
   ],
   "source": [
    "nums = [pos_num, neg_num, neu_num]\n",
    "data = {'класс': ['Позитивные', 'Негативные', 'Нейтральные'], \n",
    "        'число': nums, \n",
    "        'доля': [f'{round(num / all_num * 100)}%' for num in nums]}\n",
    "\n",
    "pd.DataFrame(data).style.hide_index()"
   ]
  },
  {
   "cell_type": "markdown",
   "id": "3b05ba72",
   "metadata": {},
   "source": [
    "# Токенизация"
   ]
  },
  {
   "cell_type": "code",
   "execution_count": 7,
   "id": "be97bc51",
   "metadata": {},
   "outputs": [],
   "source": [
    "import re"
   ]
  },
  {
   "cell_type": "code",
   "execution_count": 8,
   "id": "18046699",
   "metadata": {},
   "outputs": [],
   "source": [
    "TOKEN_RE = re.compile(r'(?:[\\w\\d]+\\-[\\w\\d]+)|[\\w\\d]+')"
   ]
  },
  {
   "cell_type": "code",
   "execution_count": 9,
   "id": "1b4a71cc",
   "metadata": {},
   "outputs": [
    {
     "name": "stdout",
     "output_type": "stream",
     "text": [
      "Завершено за 00:01:20.162\n"
     ]
    }
   ],
   "source": [
    "t.start()\n",
    "\n",
    "tokenized = [TOKEN_RE.findall(review.lower()) \n",
    "             for review \n",
    "             in reviews_df.review.to_list()]\n",
    "\n",
    "assert len(tokenized) == all_num\n",
    "\n",
    "t.stop()"
   ]
  },
  {
   "cell_type": "markdown",
   "id": "0d43df92",
   "metadata": {},
   "source": [
    "# Обучение Word2Vec"
   ]
  },
  {
   "cell_type": "code",
   "execution_count": 10,
   "id": "79c2f35e",
   "metadata": {},
   "outputs": [],
   "source": [
    "import gensim\n",
    "import multiprocessing"
   ]
  },
  {
   "cell_type": "markdown",
   "id": "d51be5f7",
   "metadata": {},
   "source": [
    "Каждый токен (слово) кодируется вектором длиной EMBEDDING_SIZE"
   ]
  },
  {
   "cell_type": "code",
   "execution_count": 11,
   "id": "c868b87a",
   "metadata": {},
   "outputs": [],
   "source": [
    "EMBEDDING_SIZE = 32"
   ]
  },
  {
   "cell_type": "code",
   "execution_count": 12,
   "id": "b94da917",
   "metadata": {},
   "outputs": [
    {
     "name": "stdout",
     "output_type": "stream",
     "text": [
      "Завершено за 00:06:23.749\n"
     ]
    }
   ],
   "source": [
    "t.start()\n",
    "\n",
    "model = gensim.models.Word2Vec(sentences=tokenized, \n",
    "                               vector_size=EMBEDDING_SIZE,\n",
    "                               window=8,\n",
    "                               min_count=3,\n",
    "                               workers=multiprocessing.cpu_count())\n",
    "\n",
    "t.stop()"
   ]
  },
  {
   "cell_type": "markdown",
   "id": "fcf841ab",
   "metadata": {},
   "source": [
    "Размер словаря Word2Vec"
   ]
  },
  {
   "cell_type": "code",
   "execution_count": 13,
   "id": "523105ee",
   "metadata": {},
   "outputs": [
    {
     "name": "stdout",
     "output_type": "stream",
     "text": [
      "Всего уникальных слов: 388740\n"
     ]
    }
   ],
   "source": [
    "print(f'Всего уникальных слов: {len(model.wv)}')"
   ]
  },
  {
   "cell_type": "markdown",
   "id": "a43fab50",
   "metadata": {},
   "source": [
    "Проверка работы модели (поиск ближайшего вектора к слову)"
   ]
  },
  {
   "cell_type": "code",
   "execution_count": 14,
   "id": "ecd0507f",
   "metadata": {},
   "outputs": [
    {
     "data": {
      "text/plain": [
       "[('персонаж', 0.8394551277160645),\n",
       " ('антагонист', 0.8173109889030457),\n",
       " ('злодей', 0.8028539419174194),\n",
       " ('зловред', 0.7872943878173828),\n",
       " ('протагонист', 0.7781420350074768),\n",
       " ('герой-подросток', 0.7620320916175842),\n",
       " ('антогонист', 0.756612241268158),\n",
       " ('оппонент', 0.7480689287185669),\n",
       " ('подозреваемый', 0.7476199865341187),\n",
       " ('плохиш', 0.7464181780815125)]"
      ]
     },
     "execution_count": 14,
     "metadata": {},
     "output_type": "execute_result"
    }
   ],
   "source": [
    "model.wv.most_similar('герой')"
   ]
  },
  {
   "cell_type": "markdown",
   "id": "86032941",
   "metadata": {},
   "source": [
    "# Преобразование модели Word2Vec в тензор"
   ]
  },
  {
   "cell_type": "code",
   "execution_count": 15,
   "id": "97e273e4",
   "metadata": {},
   "outputs": [],
   "source": [
    "import torch\n",
    "import torch.nn as nn"
   ]
  },
  {
   "cell_type": "code",
   "execution_count": 16,
   "id": "1cea156a",
   "metadata": {},
   "outputs": [],
   "source": [
    "null_vector = torch.zeros(1, EMBEDDING_SIZE, dtype=torch.float)\n",
    "model_vectors = torch.tensor(model.wv.vectors, dtype=torch.float)\n",
    "emb_vectors = torch.cat([null_vector, model_vectors])\n",
    "\n",
    "assert emb_vectors.size()[0] == len(model.wv) + 1"
   ]
  },
  {
   "cell_type": "markdown",
   "id": "ce585e15",
   "metadata": {},
   "source": [
    "Перевод всех слов в словарь, для нулевого слова используется символ \"-\""
   ]
  },
  {
   "cell_type": "code",
   "execution_count": 17,
   "id": "4010225e",
   "metadata": {},
   "outputs": [],
   "source": [
    "words = {'-': 0, **{word: i+1 for word, i in model.wv.key_to_index.items()}}\n",
    "\n",
    "assert len(words) == emb_vectors.size()[0]"
   ]
  },
  {
   "cell_type": "markdown",
   "id": "de6e6554",
   "metadata": {},
   "source": [
    "# Сохраненние тензора с эмбеддингами и словаря"
   ]
  },
  {
   "cell_type": "code",
   "execution_count": 18,
   "id": "6a60a483",
   "metadata": {},
   "outputs": [],
   "source": [
    "import pickle"
   ]
  },
  {
   "cell_type": "code",
   "execution_count": 19,
   "id": "23711d0e",
   "metadata": {},
   "outputs": [],
   "source": [
    "with open('token_dict.pkl', 'wb') as file:\n",
    "    pickle.dump(words, file)\n",
    "    \n",
    "torch.save(emb_vectors, 'embedding.pt')"
   ]
  }
 ],
 "metadata": {
  "kernelspec": {
   "display_name": "Python 3 (ipykernel)",
   "language": "python",
   "name": "python3"
  },
  "language_info": {
   "codemirror_mode": {
    "name": "ipython",
    "version": 3
   },
   "file_extension": ".py",
   "mimetype": "text/x-python",
   "name": "python",
   "nbconvert_exporter": "python",
   "pygments_lexer": "ipython3",
   "version": "3.9.9"
  }
 },
 "nbformat": 4,
 "nbformat_minor": 5
}
